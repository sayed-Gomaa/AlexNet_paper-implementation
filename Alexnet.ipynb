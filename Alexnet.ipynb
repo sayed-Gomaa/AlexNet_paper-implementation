{
  "nbformat": 4,
  "nbformat_minor": 0,
  "metadata": {
    "colab": {
      "name": "Alexnet.ipynb",
      "private_outputs": true,
      "provenance": [],
      "collapsed_sections": [],
      "authorship_tag": "ABX9TyPU/cHlqiwPjeiPysFjMEq8",
      "include_colab_link": true
    },
    "kernelspec": {
      "name": "python3",
      "display_name": "Python 3"
    },
    "language_info": {
      "name": "python"
    },
    "accelerator": "GPU"
  },
  "cells": [
    {
      "cell_type": "markdown",
      "metadata": {
        "id": "view-in-github",
        "colab_type": "text"
      },
      "source": [
        "<a href=\"https://colab.research.google.com/github/sayed-Gomaa/AlexNet_paper-implementation/blob/main/Alexnet.ipynb\" target=\"_parent\"><img src=\"https://colab.research.google.com/assets/colab-badge.svg\" alt=\"Open In Colab\"/></a>"
      ]
    },
    {
      "cell_type": "code",
      "metadata": {
        "id": "6cz3l9BpI91j"
      },
      "source": [
        "#Configuration environment\n",
        "import os\n",
        "\n",
        "os.environ['KAGGLE_USERNAME'] = \"sayedgomaa\" # username from the json file\n",
        "os.environ['KAGGLE_KEY'] = \"c310dd811930170fe3f071f577c08b54\" # key from the json file"
      ],
      "execution_count": null,
      "outputs": []
    },
    {
      "cell_type": "code",
      "metadata": {
        "id": "Doon18GSJmX-"
      },
      "source": [
        "from google.colab import drive\n",
        "drive.mount('/content/gdrive')"
      ],
      "execution_count": null,
      "outputs": []
    },
    {
      "cell_type": "code",
      "metadata": {
        "id": "n4BiQnrCMPPC"
      },
      "source": [
        "os.chdir('/content/gdrive/MyDrive/Colab Notebooks/Paper')\n",
        "\n",
        "! pwd"
      ],
      "execution_count": null,
      "outputs": []
    },
    {
      "cell_type": "code",
      "metadata": {
        "id": "GABObd3fNcxq"
      },
      "source": [
        "!kaggle datasets download -d puneet6060/intel-image-classification"
      ],
      "execution_count": null,
      "outputs": []
    },
    {
      "cell_type": "code",
      "metadata": {
        "id": "_H8g-9UXN-Vz"
      },
      "source": [
        "! pwd"
      ],
      "execution_count": null,
      "outputs": []
    },
    {
      "cell_type": "code",
      "metadata": {
        "id": "Y8moASFTQFbz"
      },
      "source": [
        "! unzip intel-image-classification.zip"
      ],
      "execution_count": null,
      "outputs": []
    },
    {
      "cell_type": "code",
      "metadata": {
        "id": "ECUecmW_QoUI"
      },
      "source": [
        "import numpy as np\n",
        "import pandas as pd\n",
        "import matplotlib.pyplot as plt\n",
        "import random\n",
        "import tensorflow as tf\n",
        "import os\n",
        "import shutil\n",
        "import glob"
      ],
      "execution_count": null,
      "outputs": []
    },
    {
      "cell_type": "code",
      "metadata": {
        "id": "sKih-w-Pv3Qk"
      },
      "source": [
        "\n",
        "def plot_imgs(item_dir, top=10):\n",
        "    all_item_dirs = os.listdir(item_dir)\n",
        "    item_files = [os.path.join(item_dir, file) for file in all_item_dirs][100:106]\n",
        "  \n",
        "    plt.figure(figsize=(10, 10))\n",
        "  \n",
        "    for idx, img_path in enumerate(item_files):\n",
        "        plt.subplot(1, 6, idx+1)        \n",
        "        img = plt.imread(img_path)\n",
        "        plt.tight_layout() \n",
        "        plt.axis('off')\n",
        "        plt.imshow(img, cmap='gray')\n",
        "        "
      ],
      "execution_count": null,
      "outputs": []
    },
    {
      "cell_type": "code",
      "metadata": {
        "id": "NVDw1X62xVs8"
      },
      "source": [
        "! ls"
      ],
      "execution_count": null,
      "outputs": []
    },
    {
      "cell_type": "code",
      "metadata": {
        "id": "dpQItbWgxdBM"
      },
      "source": [
        "training_data_path=\"seg_train/seg_train\"\n",
        "testing_data_path=\"seg_test/seg_test\""
      ],
      "execution_count": null,
      "outputs": []
    },
    {
      "cell_type": "code",
      "metadata": {
        "id": "3mJyV8AMwwFJ"
      },
      "source": [
        "img_height = 227\n",
        "img_width = 227\n",
        "\n",
        "training_data_gen = tf.keras.preprocessing.image.ImageDataGenerator(rotation_range=40,\n",
        "                                                                    shear_range=0.2,\n",
        "                                                                    zoom_range=0.2,\n",
        "                                                                    horizontal_flip=True,\n",
        "                                                                    vertical_flip=True,\n",
        "                                                                    rescale=1/255.0,\n",
        "                                                                    validation_split=0.25)\n",
        "\n",
        "train_generator = training_data_gen.flow_from_directory(training_data_path,\n",
        "                                                        target_size=(img_height, img_width),\n",
        "                                                        batch_size=64,\n",
        "                                                        shuffle=True,\n",
        "                                                        class_mode='categorical',\n",
        "                                                        subset='training') # set as training data\n",
        "\n",
        "validation_generator = training_data_gen.flow_from_directory(training_data_path, # same directory as training data\n",
        "                                                             target_size=(img_height, img_width),\n",
        "                                                             batch_size=64,\n",
        "                                                             shuffle=True,\n",
        "                                                             class_mode='categorical',\n",
        "                                                             subset='validation') # set as validation data\n",
        " \n",
        "\n",
        "testing_data_gen = tf.keras.preprocessing.image.ImageDataGenerator(rescale=1/255.0)\n",
        "\n",
        "test_generator = testing_data_gen.flow_from_directory(testing_data_path,\n",
        "                                                      target_size=(img_height, img_width),\n",
        "                                                      batch_size=60,\n",
        "                                                      seed=0,\n",
        "                                                      shuffle=False,\n",
        "                                                      class_mode='categorical') "
      ],
      "execution_count": null,
      "outputs": []
    },
    {
      "cell_type": "code",
      "metadata": {
        "id": "wIxc8T-Owwqq"
      },
      "source": [
        " img,lebel=next(train_generator)"
      ],
      "execution_count": null,
      "outputs": []
    },
    {
      "cell_type": "code",
      "metadata": {
        "id": "1jBzhRfryNQC"
      },
      "source": [
        "%matplotlib inline\n",
        "def plotImages(images_arr):\n",
        "    fig, axes = plt.subplots(2, 4, figsize=(20,20))\n",
        "    axes = axes.flatten()\n",
        "    for img, ax in zip( images_arr, axes):\n",
        "        ax.imshow(img)\n",
        "        ax.axis('off')\n",
        "    plt.tight_layout()\n",
        "    plt.show()"
      ],
      "execution_count": null,
      "outputs": []
    },
    {
      "cell_type": "code",
      "metadata": {
        "id": "n86wob92zvvZ"
      },
      "source": [
        "plotImages(img)"
      ],
      "execution_count": null,
      "outputs": []
    },
    {
      "cell_type": "code",
      "metadata": {
        "id": "1qlQzBSEz2Nh"
      },
      "source": [
        "model=tf.keras.models.Sequential()\n",
        "model.add(tf.keras.layers.Conv2D(filters=96,kernel_size=(11,11),strides=4,activation='relu',padding='same',input_shape=(227,227,3)))\n",
        "model.add(tf.keras.layers.MaxPool2D(pool_size=(3,3),strides=2))\n",
        "model.add(tf.keras.layers.BatchNormalization())\n",
        "\n",
        "model.add(tf.keras.layers.ZeroPadding2D(padding=(2, 2)))\n",
        "model.add(tf.keras.layers.Conv2D(filters=256,kernel_size=(5,5),activation='relu',padding=\"same\"))\n",
        "model.add(tf.keras.layers.MaxPool2D(pool_size=(3,3),strides=2))\n",
        " \n",
        "\n",
        "model.add(tf.keras.layers.Conv2D(filters=384,kernel_size=(3,3),activation='relu',padding='same'))\n",
        "model.add(tf.keras.layers.Conv2D(filters=384,kernel_size=(3,3),activation='relu',padding='same'))\n",
        "\n",
        "model.add(tf.keras.layers.Conv2D(filters=256,kernel_size=(3,3),activation='relu',padding='same'))\n",
        "model.add(tf.keras.layers.MaxPool2D(pool_size=(3,3),strides=2))\n",
        "\n",
        "\n",
        "model.add(tf.keras.layers.Flatten())\n",
        "\n",
        "model.add(tf.keras.layers.Dense(units=4096,activation='relu'))\n",
        "model.add(tf.keras.layers.Dropout(.5))\n",
        "\n",
        "\n",
        "model.add(tf.keras.layers.Dense(units=4096,activation='relu'))\n",
        "model.add(tf.keras.layers.Dropout(.5))\n",
        "\n",
        "model.add(tf.keras.layers.Dense(units=6,activation='softmax'))"
      ],
      "execution_count": null,
      "outputs": []
    },
    {
      "cell_type": "code",
      "metadata": {
        "id": "iCukirbF6Re6"
      },
      "source": [
        "model.summary()"
      ],
      "execution_count": null,
      "outputs": []
    },
    {
      "cell_type": "code",
      "metadata": {
        "id": "F8OcgrEew5zO"
      },
      "source": [
        "model.compile(optimizer=tf.keras.optimizers.Adam(learning_rate=.0005),loss='categorical_crossentropy',metrics=['accuracy'])"
      ],
      "execution_count": null,
      "outputs": []
    },
    {
      "cell_type": "code",
      "metadata": {
        "id": "1zisDwM8xddX"
      },
      "source": [
        "history=model.fit(train_generator,validation_data=validation_generator, epochs=20,verbose=1)"
      ],
      "execution_count": null,
      "outputs": []
    },
    {
      "cell_type": "code",
      "metadata": {
        "id": "q4W0Rgspx07H"
      },
      "source": [
        "model.save('model.h5')"
      ],
      "execution_count": null,
      "outputs": []
    },
    {
      "cell_type": "code",
      "metadata": {
        "id": "F7i66634KFMU"
      },
      "source": [
        "predect = model.predict(test_generator,batch_size=10,verbose=1)"
      ],
      "execution_count": null,
      "outputs": []
    },
    {
      "cell_type": "code",
      "metadata": {
        "id": "K-6FPsrWKFIm"
      },
      "source": [
        "%matplotlib inline\n",
        "\n",
        "import matplotlib.image  as mpimg\n",
        "import matplotlib.pyplot as plt\n",
        "\n",
        "#-----------------------------------------------------------\n",
        "# Retrieve a list of list results on training and test data\n",
        "# sets for each training epoch\n",
        "#-----------------------------------------------------------\n",
        "\n",
        "acc=history.history['accuracy']\n",
        "val_acc=history.history['val_accuracy']\n",
        "loss=history.history['loss']\n",
        "val_loss=history.history['val_loss']\n",
        "\n",
        "epochs=range(len(acc)) # Get number of epochs\n",
        "\n",
        "#------------------------------------------------\n",
        "# Plot training and validation accuracy per epoch\n",
        "#------------------------------------------------\n",
        "plt.plot(epochs, acc, 'r')\n",
        "plt.plot(epochs, val_acc, 'b')\n",
        "plt.title('Training and validation accuracy')\n",
        "plt.xlabel('epochs')\n",
        "plt.ylabel('accuracy')\n",
        "plt.legend([\"Training Accuracy\",\"Validation Accuracy\"])\n",
        "plt.show()\n",
        "\n",
        "\n",
        "#------------------------------------------------\n",
        "# Plot training and validation loss per epoch\n",
        "#------------------------------------------------\n",
        "plt.plot(epochs, loss, 'r')\n",
        "plt.plot(epochs, val_loss, 'b')\n",
        "plt.title('Training and validation loss')\n",
        "plt.title('Training and validation loss')\n",
        "plt.xlabel('epochs')\n",
        "plt.ylabel('loss')\n",
        "plt.legend([\"Training Loss\",\"Validation Loss\"])\n",
        "plt.show()\n",
        "\n",
        "# Desired output. Charts with training and validation metrics. \n"
      ],
      "execution_count": null,
      "outputs": []
    },
    {
      "cell_type": "code",
      "metadata": {
        "id": "SOgWqmMoKE-O"
      },
      "source": [
        ""
      ],
      "execution_count": null,
      "outputs": []
    }
  ]
}